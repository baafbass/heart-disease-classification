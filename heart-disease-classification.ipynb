{
 "cells": [
  {
   "cell_type": "markdown",
   "id": "5a7fe246-c244-4699-82b9-e02e1c401f36",
   "metadata": {},
   "source": [
    "# Predicting heart disease using Machine Learning\n",
    "This notebook looks into using various Python-based Machine Learning and Data Science\n",
    "libraries in an attempt to build a machine learning model capable of predicting whether \n",
    "or not someone has heart-disease based on their medical attributes.\n",
    "\n",
    "I am going to take the following approach:\n",
    "1. Problem definition\n",
    "2. Data\n",
    "3. Evaluation\n",
    "4. Features\n",
    "5. Modeling\n",
    "6. Experimentations\n",
    "\n",
    "## 1. Problem Definition\n",
    "\n",
    "In a statement,\n",
    "> Given clinical parameters about a patient, can we predict whether or not they have\n",
    "heart disease?\n",
    "\n",
    "## 2. Data\n",
    "The original data came from the Cleavland data from the UCI Machine Learning Repository.\n",
    "https://archive.ics.uci.edu/dataset/45/heart+disease\n",
    "\n",
    "There is also a version of it available on kaggle.\n",
    "https://www.kaggle.com/c/heart-disease-uci/data\n",
    "\n",
    "## 3. Evaluation\n",
    "> If I can reach 95% accuracy at predicting whether or not a patient has heart disease\n",
    "during the proof of concept, I will pursue the project.\n",
    "\n",
    "## 4. Features\n",
    "\n",
    "This is where you will get different information about the each of the features in the data.\n",
    "\n",
    "**Create data dictionary**\n",
    "\n",
    "* age. The age of the patient.\n",
    "* sex. The gender of the patient. (1 = male, 0 = female).\n",
    "* cp. Type of chest pain. (1 = typical angina, 2 = atypical angina, 3 = non — anginal pain, 4 = asymptotic).\n",
    "* trestbps. Resting blood pressure in mmHg.\n",
    "* chol. Serum Cholestero in mg/dl.\n",
    "* fbs. Fasting Blood Sugar. (1 = fasting blood sugar is more than 120mg/dl, 0 = otherwise).\n",
    "* restecg. Resting ElectroCardioGraphic results (0 = normal, 1 = ST-T wave abnormality, 2 = left ventricular hyperthrophy).\n",
    "* thalach. Max heart rate achieved.\n",
    "* exang. Exercise induced angina (1 = yes, 0 = no).\n",
    "* oldpeak. ST depression induced by exercise relative to rest.\n",
    "* slope. Peak exercise ST segment (1 = upsloping, 2 = flat, 3 = downsloping).\n",
    "* ca. Number of major vessels (0–3) colored by flourosopy.\n",
    "* thal. Thalassemia (3 = normal, 6 = fixed defect, 7 = reversible defect).\n",
    "* num. Diagnosis of heart disease (0 = absence, 1, 2, 3, 4 = present)."
   ]
  },
  {
   "cell_type": "markdown",
   "id": "10ae9a01-7dec-4583-b0d7-37e4c6af240d",
   "metadata": {},
   "source": [
    "\n",
    "# Preparing the tools\n",
    "\n",
    "I am going to use Pandas,Numpy and Matplotlib for data analysis and Manipulation"
   ]
  },
  {
   "cell_type": "code",
   "execution_count": 1,
   "id": "a52f6303-0082-4bf7-9996-ce01dcb739bf",
   "metadata": {},
   "outputs": [
    {
     "name": "stderr",
     "output_type": "stream",
     "text": [
      "C:\\Users\\Lenovo\\Desktop\\heart-disease-Project\\env\\Lib\\site-packages\\pandas\\core\\arrays\\masked.py:60: UserWarning: Pandas requires version '1.3.6' or newer of 'bottleneck' (version '1.3.5' currently installed).\n",
      "  from pandas.core import (\n"
     ]
    },
    {
     "ename": "ImportError",
     "evalue": "cannot import name 'LogisticRegressor' from 'sklearn.linear_model' (C:\\Users\\Lenovo\\Desktop\\heart-disease-Project\\env\\Lib\\site-packages\\sklearn\\linear_model\\__init__.py)",
     "output_type": "error",
     "traceback": [
      "\u001b[1;31m---------------------------------------------------------------------------\u001b[0m",
      "\u001b[1;31mImportError\u001b[0m                               Traceback (most recent call last)",
      "Cell \u001b[1;32mIn[1], line 13\u001b[0m\n\u001b[0;32m     10\u001b[0m get_ipython()\u001b[38;5;241m.\u001b[39mrun_line_magic(\u001b[38;5;124m'\u001b[39m\u001b[38;5;124mmatplotlib\u001b[39m\u001b[38;5;124m'\u001b[39m, \u001b[38;5;124m'\u001b[39m\u001b[38;5;124minline\u001b[39m\u001b[38;5;124m'\u001b[39m)\n\u001b[0;32m     12\u001b[0m \u001b[38;5;66;03m# Models from Scikit-learn\u001b[39;00m\n\u001b[1;32m---> 13\u001b[0m \u001b[38;5;28;01mfrom\u001b[39;00m \u001b[38;5;21;01msklearn\u001b[39;00m\u001b[38;5;21;01m.\u001b[39;00m\u001b[38;5;21;01mlinear_model\u001b[39;00m \u001b[38;5;28;01mimport\u001b[39;00m LogisticRegressor\n\u001b[0;32m     14\u001b[0m \u001b[38;5;28;01mfrom\u001b[39;00m \u001b[38;5;21;01msklearn\u001b[39;00m\u001b[38;5;21;01m.\u001b[39;00m\u001b[38;5;21;01mneighbors\u001b[39;00m \u001b[38;5;28;01mimport\u001b[39;00m KNeighborsClassifier\n\u001b[0;32m     15\u001b[0m \u001b[38;5;28;01mfrom\u001b[39;00m \u001b[38;5;21;01msklearn\u001b[39;00m\u001b[38;5;21;01m.\u001b[39;00m\u001b[38;5;21;01mensemble\u001b[39;00m \u001b[38;5;28;01mimport\u001b[39;00m RandomForestClassifier\n",
      "\u001b[1;31mImportError\u001b[0m: cannot import name 'LogisticRegressor' from 'sklearn.linear_model' (C:\\Users\\Lenovo\\Desktop\\heart-disease-Project\\env\\Lib\\site-packages\\sklearn\\linear_model\\__init__.py)"
     ]
    }
   ],
   "source": [
    "# import all the tools I need\n",
    "\n",
    "# Regular EDA and plotting libraries\n",
    "import pandas as pd\n",
    "import numpy as np\n",
    "import matplotlib.pyplot as plt\n",
    "import seaborn as sns\n",
    "\n",
    "# I want my plots to appear inside the notebook\n",
    "%matplotlib inline\n",
    "\n",
    "# Models from Scikit-learn\n",
    "from sklearn.linear_model import LogisticRegressor\n",
    "from sklearn.neighbors import KNeighborsClassifier\n",
    "from sklearn.ensemble import RandomForestClassifier\n",
    "\n",
    "# Models Evaluations\n",
    "from sklearn.model_selection import train_test_split,cross_val_score\n",
    "from sklearn.model_selection import RandomizedSearchCV,GridSearchCV\n",
    "from sklearn.metrics import confusion_matrix,classification_report\n",
    "from sklearn.metrics import precision_score,recall_score,f1_score\n",
    "from sklearn.metrics import RocCurveDisplay\n"
   ]
  },
  {
   "cell_type": "code",
   "execution_count": null,
   "id": "0fb003b7-f394-489c-b526-8e5a342df4a9",
   "metadata": {},
   "outputs": [],
   "source": []
  }
 ],
 "metadata": {
  "kernelspec": {
   "display_name": "Python 3 (ipykernel)",
   "language": "python",
   "name": "python3"
  },
  "language_info": {
   "codemirror_mode": {
    "name": "ipython",
    "version": 3
   },
   "file_extension": ".py",
   "mimetype": "text/x-python",
   "name": "python",
   "nbconvert_exporter": "python",
   "pygments_lexer": "ipython3",
   "version": "3.11.7"
  }
 },
 "nbformat": 4,
 "nbformat_minor": 5
}
